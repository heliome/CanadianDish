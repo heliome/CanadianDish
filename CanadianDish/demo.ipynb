{
 "cells": [
  {
   "cell_type": "markdown",
   "id": "bbe7e166",
   "metadata": {},
   "source": [
    "# CanadianDish - Find Canadian cuisine recipes"
   ]
  },
  {
   "cell_type": "markdown",
   "id": "7dba7b45",
   "metadata": {},
   "source": [
    "What you need to know:\n",
    "\n",
    "This program helps you find different Canadian recipes, for any occasion, anytime of the year. Includes a function to get a random recipe(main.py), a function which gives a course specific recipe(course.py) a seasonal recipe(seasonal.py) and a combined one(couseSeason.py).\n"
   ]
  },
  {
   "cell_type": "markdown",
   "id": "e0923b41",
   "metadata": {},
   "source": [
    "## Get random recipe"
   ]
  },
  {
   "cell_type": "code",
   "execution_count": 1,
   "id": "bc1f8338",
   "metadata": {},
   "outputs": [],
   "source": [
    "from CanadianDish.simple import getRecipe"
   ]
  },
  {
   "cell_type": "code",
   "execution_count": 2,
   "id": "bd76e6a0",
   "metadata": {},
   "outputs": [
    {
     "name": "stdout",
     "output_type": "stream",
     "text": [
      "PDF created!\n"
     ]
    }
   ],
   "source": [
    "getRecipe()"
   ]
  },
  {
   "cell_type": "markdown",
   "id": "270b8eeb",
   "metadata": {},
   "source": [
    "## Get random recipe by course"
   ]
  },
  {
   "cell_type": "code",
   "execution_count": 3,
   "id": "ffcb83e8",
   "metadata": {},
   "outputs": [],
   "source": [
    "from CanadianDish.course import getCourseRecipe"
   ]
  },
  {
   "cell_type": "code",
   "execution_count": 4,
   "id": "d96c8c09",
   "metadata": {},
   "outputs": [
    {
     "name": "stdout",
     "output_type": "stream",
     "text": [
      "PDF created!\n"
     ]
    }
   ],
   "source": [
    "getCourseRecipe(\"dinner\")"
   ]
  },
  {
   "cell_type": "markdown",
   "id": "9ad6c007",
   "metadata": {},
   "source": [
    "## Get random recipe by season"
   ]
  },
  {
   "cell_type": "code",
   "execution_count": 5,
   "id": "64a854f2",
   "metadata": {},
   "outputs": [],
   "source": [
    "from CanadianDish.seasonal import getSeasonRecipe"
   ]
  },
  {
   "cell_type": "code",
   "execution_count": 6,
   "id": "4cb82cb1",
   "metadata": {},
   "outputs": [
    {
     "name": "stdout",
     "output_type": "stream",
     "text": [
      "PDF created!\n"
     ]
    }
   ],
   "source": [
    "getSeasonRecipe()"
   ]
  },
  {
   "cell_type": "code",
   "execution_count": 7,
   "id": "1ab9da55",
   "metadata": {},
   "outputs": [
    {
     "name": "stdout",
     "output_type": "stream",
     "text": [
      "PDF created!\n"
     ]
    }
   ],
   "source": [
    "getSeasonRecipe(\"February\")"
   ]
  },
  {
   "cell_type": "code",
   "execution_count": 8,
   "id": "88c0bc67",
   "metadata": {},
   "outputs": [
    {
     "name": "stdout",
     "output_type": "stream",
     "text": [
      "Error: check the input\n"
     ]
    }
   ],
   "source": [
    "getSeasonRecipe(\"z\")"
   ]
  },
  {
   "cell_type": "markdown",
   "id": "4f99f887",
   "metadata": {},
   "source": [
    "## Get random recipe, by season and course"
   ]
  },
  {
   "cell_type": "code",
   "execution_count": 9,
   "id": "95b16470",
   "metadata": {},
   "outputs": [],
   "source": [
    "from CanadianDish.courseSeason import getCombinedRecipe"
   ]
  },
  {
   "cell_type": "code",
   "execution_count": 10,
   "id": "1012239e",
   "metadata": {},
   "outputs": [
    {
     "name": "stdout",
     "output_type": "stream",
     "text": [
      "PDF created!\n"
     ]
    }
   ],
   "source": [
    "getCombinedRecipe(\"dinner\")"
   ]
  },
  {
   "cell_type": "code",
   "execution_count": 11,
   "id": "46620866",
   "metadata": {},
   "outputs": [
    {
     "name": "stdout",
     "output_type": "stream",
     "text": [
      "PDF created!\n"
     ]
    }
   ],
   "source": [
    "getCombinedRecipe(\"dinner\", \"February\")"
   ]
  },
  {
   "cell_type": "code",
   "execution_count": 13,
   "id": "a2a805f0",
   "metadata": {},
   "outputs": [
    {
     "name": "stdout",
     "output_type": "stream",
     "text": [
      "Error: check the name of the course\n"
     ]
    }
   ],
   "source": [
    "getCombinedRecipe(\"kkk\", \"February\")"
   ]
  },
  {
   "cell_type": "code",
   "execution_count": null,
   "id": "7d37da5a",
   "metadata": {},
   "outputs": [],
   "source": []
  }
 ],
 "metadata": {
  "kernelspec": {
   "display_name": "Python 3 (ipykernel)",
   "language": "python",
   "name": "python3"
  },
  "language_info": {
   "codemirror_mode": {
    "name": "ipython",
    "version": 3
   },
   "file_extension": ".py",
   "mimetype": "text/x-python",
   "name": "python",
   "nbconvert_exporter": "python",
   "pygments_lexer": "ipython3",
   "version": "3.9.13"
  }
 },
 "nbformat": 4,
 "nbformat_minor": 5
}
